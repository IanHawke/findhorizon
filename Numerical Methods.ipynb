{
 "metadata": {
  "name": "",
  "signature": "sha256:de108232926262e79f07c926bd3f884ce0bbb278f170e4384e8019ed7a19013a"
 },
 "nbformat": 3,
 "nbformat_minor": 0,
 "worksheets": [
  {
   "cells": [
    {
     "cell_type": "heading",
     "level": 1,
     "metadata": {},
     "source": [
      "Apparent Horizons and Numerical Methods"
     ]
    },
    {
     "cell_type": "markdown",
     "metadata": {},
     "source": [
      "To recap: to find a black hole apparent horizon we have to solve the boundary value problem\n",
      "\n",
      "\\begin{equation}\n",
      "  \\frac{d^2 h}{d \\theta^2} = 2 h -  \\frac{\\cot(\\theta)}{C^2} \\frac{d h}{d \\theta} +\n",
      "  \\frac{4 h^2}{\\psi C^2} \\left( \\frac{\\partial \\psi}{\\partial r} - \\frac{1}{h^2}\n",
      "    \\frac{\\partial \\psi}{\\partial \\theta} \\frac{d h}{d \\theta} \\right) + \\frac{3}{h} \\left(\n",
      "    \\frac{d h}{d \\theta} \\right)^2,\n",
      "\\end{equation}\n",
      "\n",
      "with boundary conditions\n",
      "\n",
      "\\begin{equation}\n",
      "  \\frac{d h}{d \\theta} \\left( \\theta = 0 \\right) = 0 = \\frac{d h}{d \\theta}\n",
      "  \\left( \\theta = \\pi \\right),\n",
      "\\end{equation}\n",
      "\n",
      "should a solution exist. If no solution exists, then there is no horizon. If multiple solutions exist then they do not cross and the AH is the solution with largest $h$ ($r$) for any angle. "
     ]
    },
    {
     "cell_type": "heading",
     "level": 2,
     "metadata": {},
     "source": [
      "Shooting method"
     ]
    },
    {
     "cell_type": "markdown",
     "metadata": {},
     "source": [
      "There are many methods for solving ordinary differential equation boundary value problems such as this. The standard advice is to first use the *shooting* method.\n",
      "\n",
      "In shooting we convert the boundary value problem to an initial value problem by providing a guess for the missing initial conditions. We then solve the initial value problem up to the boundary point. We can then use the value of the solution, compared to the boundary condition of the original problem, to modify the initial guess.\n",
      "\n",
      "Explicitly, we write the problem above in the form of an initial value problem as\n",
      "\n",
      "\\begin{align}\n",
      "  \\frac{d}{d \\theta} \\begin{pmatrix} h \\\\ \\frac{d h}{d \\theta} \\end{pmatrix} & = \\frac{d}{d \\theta} \\begin{pmatrix} H_1 \\\\ H_2 \\end{pmatrix} \\\\ & = \\begin{pmatrix} \\frac{d h}{d \\theta} \\\\ 2 h -  \\frac{\\cot(\\theta)}{C^2} \\frac{d h}{d \\theta} + \\frac{4 h^2}{\\psi C^2} \\left( \\frac{\\partial \\psi}{\\partial r} - \\frac{1}{h^2}  \\frac{\\partial \\psi}{\\partial \\theta} \\frac{d h}{d \\theta} \\right) + \\frac{3}{h} \\left( \\frac{d h}{d \\theta} \\right)^2 \\end{pmatrix} \\\\ & = \\begin{pmatrix} H_2 \\\\ 2 H_1 -  \\frac{\\cot(\\theta)}{C^2} H_2 + \\frac{4 H_1^2}{\\psi C^2} \\left( \\frac{\\partial \\psi}{\\partial r} - \\frac{1}{H_1^2}  \\frac{\\partial \\psi}{\\partial \\theta} H_2 \\right) + \\frac{3}{H_1} H_2^2 \\end{pmatrix}\n",
      "\\end{align}\n",
      "\n",
      "with initial conditions\n",
      "\n",
      "\\begin{equation}\n",
      "  h(\\theta = 0) = H_1(\\theta = 0) = h_0, \\qquad \\frac{d h}{d \\theta}(\\theta = 0) = H_2(\\theta = 0) = 0.\n",
      "\\end{equation}\n",
      "\n",
      "This defines an initial value problem for the state vector ${\\bf H}$. The solution is a function of $\\theta$ but depends on the guess for $h_0$, the horizon radius at the initial point $\\theta = 0$. We therefore write the solution of the initial value problem as ${\\bf H}(\\theta ; h_0)$ to show that it is a function of $\\theta$ depending on the parameter $h_0$.\n",
      "\n",
      "Note that the additional terms in the initial value problem such as the auxilliary variable $C$ and the quantities encoding the spacetime ($\\psi$ and its derivatives) are completely given in terms of $h$, $d h / d \\theta$, and $\\theta$. Therefore the initial value problem is in the form\n",
      "\n",
      "\\begin{equation}\n",
      "  \\frac{d}{d \\theta} {\\bf H} = {\\bf F} \\left( \\theta, {\\bf H} \\right), \\qquad {\\bf H}(\\theta = 0) = {\\bf H}_0.\n",
      "\\end{equation}"
     ]
    },
    {
     "cell_type": "markdown",
     "metadata": {},
     "source": [
      "There are many standard numerical methods for solving initial value problems. Within `python` the `scipy` library contains a number of routines. As a simple first test we will use `scipy.integrate.odeint` to solve the initial value problem."
     ]
    },
    {
     "cell_type": "markdown",
     "metadata": {},
     "source": [
      "Applying the initial value problem solvers we can construct ${\\bf H}(\\theta ; h_0)$. From the solution we can evaluate the solution at the endpoint: either at $\\theta = \\pi$ (if there is no symmetry in the problem) or at $\\theta = \\pi / 2$. This gives us, for example, ${\\bf H}(\\pi ; h_0)$, and most importantly gives us ${\\bf H_2}(\\pi ; h_0) = \\frac{d h}{d \\theta}(\\pi ; h_0)$.\n",
      "\n",
      "Now, the original boundary condition tells us that $\\frac{d h}{d \\theta}(\\pi)$ should be identically zero. **If** our guess for $h_0$ is such that $\\frac{d h}{d \\theta}(\\pi ; h_0) = 0$, **then** we have a solution of the boundary value problem. Of course, the chances of this happening by luck are minute. Instead we must repeatedly evaluate the solution for different values of $h_0$ in order to find a value that gives us a solution of the boundary value problem.\n",
      "\n",
      "This step can be formalised in the following way. Define the function\n",
      "\n",
      "\\begin{equation}\n",
      "  \\phi(h_0) = \\frac{d h}{d \\theta}(\\pi ; h_0).\n",
      "\\end{equation}\n",
      "\n",
      "We are trying to find the value $\\bar{h}_0$ such that $\\phi(\\bar{h}_0) = 0$. This is a standard *nonlinear algebraic root-finding* problem."
     ]
    },
    {
     "cell_type": "markdown",
     "metadata": {},
     "source": [
      "Again, there are many standard numerical methods for solving root-finding problems of this sort, and again `python` has some contained within `scipy`. In this first simple test we will use the recommended `scipy.optimize.brentq` method, which requires two initial guesses bracketing a single solution $\\bar{h}_0$."
     ]
    },
    {
     "cell_type": "markdown",
     "metadata": {},
     "source": [
      "Once we have found a solution $\\bar{h}_0$, then the apparent horizon is found by\n",
      "\n",
      "1. constructing a solution ${\\bf H}$ of the initial value problem with ${\\bf H}_0 = (\\bar{h}_0, 0)$;\n",
      "2. noting that $h(\\theta) = {\\bf H}_1 (\\theta)$;\n",
      "3. converting to cartesian coordinates using\n",
      "\n",
      "   \\begin{equation}\n",
      "     x = h \\sin(\\theta), \\qquad z = h \\cos(\\theta)\n",
      "   \\end{equation}\n",
      "   \n",
      "We can then plot the solution."
     ]
    },
    {
     "cell_type": "markdown",
     "metadata": {},
     "source": [
      "In principle it is necessary to find *all* solutions to the boundary value problem in order to locate the apparent horizon (which is the outermost solution). It can be very difficult to guarantee that you have truly found the apparent horizon just from the information given here."
     ]
    },
    {
     "cell_type": "heading",
     "level": 2,
     "metadata": {},
     "source": [
      "Simple examples"
     ]
    },
    {
     "cell_type": "code",
     "collapsed": false,
     "input": [
      "%matplotlib inline"
     ],
     "language": "python",
     "metadata": {},
     "outputs": [],
     "prompt_number": 1
    },
    {
     "cell_type": "code",
     "collapsed": false,
     "input": [
      "import numpy as np\n",
      "import matplotlib\n",
      "matplotlib.rcParams.update({'font.size': 14})\n",
      "import matplotlib.pyplot as plt\n",
      "from scipy.integrate import odeint\n",
      "from scipy.optimize import brentq"
     ],
     "language": "python",
     "metadata": {},
     "outputs": [],
     "prompt_number": 2
    },
    {
     "cell_type": "markdown",
     "metadata": {},
     "source": [
      "To implement the solver, we need the explicit formulas for the auxilliary variable $C$, which is defined as\n",
      "\n",
      "\\begin{equation}\n",
      "  C = \\left( 1 + \\left( \\frac{1}{h} \\frac{d h}{d \\theta} \\right)^2\n",
      "  \\right)^{-1/2},\n",
      "\\end{equation}\n",
      "\n",
      "and for the spacetime quantities\n",
      "\n",
      "\\begin{align}\n",
      "    \\psi & = 1 + \\frac{1}{2} \\sum_{i=1}^N \\frac{m^{(i)}}{\\left\\| {\\bf\n",
      "          y} - {\\bf y}^{(i)} \\right\\|_2}, \\\\\n",
      "    \\frac{\\partial \\psi}{\\partial r} & = \\frac{1}{2} \\sum_{i=1}^N \\frac{m^{(i)} \\left(\n",
      "        z^{(i)} \\cos(\\theta) - r\n",
      "      \\right)}{\\left\\| {\\bf y} - {\\bf y}^{(i)} \\right\\|_2^3}, \\\\\n",
      "    \\frac{\\partial \\psi}{\\partial \\theta} & = -\\frac{1}{2} \\sum_{i=1}^N \\frac{m^{(i)} r\n",
      "      z^{(i)} \\sin(\\theta)}{\\left\\| {\\bf y} - {\\bf y}^{(i)} \\right\\|_2^3}.\n",
      "\\end{align}\n",
      "\n",
      "Note that we use coordinates $(r, \\theta)$, where $(x, z) = (r \\cos(\\theta), r \\sin(\\theta))$, to match the symmetries of the spacetime. The $m^{(i)}$ are the bare masses of the singularities, and the ${\\bf y}^{(i)} = (0, z^{(i)})$ are their locations (which, due to the axisymmetry, must lie on the $z$-axis).\n",
      "\n",
      "We must note that the $\\cot(\\theta)$ term is problematic at $\\theta = 0, \\pi$. $\\cot(\\theta)$ blows up at those points. As $d h / d \\theta$ *should* vanish there, it can be shown that the full term including $\\cot(\\theta)$ vanishes at those points. This must be imposed by hand, and can cause numerical problems."
     ]
    },
    {
     "cell_type": "heading",
     "level": 3,
     "metadata": {},
     "source": [
      "Schwarzschild"
     ]
    },
    {
     "cell_type": "markdown",
     "metadata": {},
     "source": [
      "First let us solve for the simplest case: one singularity of mass $1$. This situation corresponds to a Schwarzschild black hole - static and spherically symmetric. The singularity is located at the origin.\n",
      "\n",
      "In this case we have\n",
      "\n",
      "\\begin{align}\n",
      "    \\psi & = 1 + \\frac{1}{2 r}, \\\\\n",
      "    \\frac{\\partial \\psi}{\\partial r} & = -\\frac{1}{2 r^2}, \\\\\n",
      "    \\frac{\\partial \\psi}{\\partial \\theta} & = 0.\n",
      "\\end{align}\n",
      "\n",
      "Thanks to the symmetry of the problem we can integrate from $\\theta = 0$ to $\\theta = \\pi/2$, where the boundary condition $d h / d \\theta = 0$ holds. This avoids the problem of trying to integrate up to $\\theta = \\pi$ where the coordinate singularity, indicated by the problem with the $\\cot(\\theta)$ term mentioned above, can cause trouble."
     ]
    },
    {
     "cell_type": "code",
     "collapsed": false,
     "input": [
      "def horizon_function(H, theta):\n",
      "    \"\"\"Encoding the apparent horizon IVP equation.\"\"\"\n",
      "    \n",
      "    h = H[0]\n",
      "    dh = H[1]\n",
      "    \n",
      "    psi = 1.0 + 1.0 / (2.0 * h)\n",
      "    dpsi_dr = -1.0 / (2.0 * h**2)\n",
      "    dpsi_dtheta = 0.0\n",
      "    \n",
      "    C2 = 1.0 / (1.0 + (dh / h)**2)\n",
      "    # Impose that the term involving cot(theta) vanishes on axis.\n",
      "    if (abs(theta) < 1e-16) or (abs(theta - np.pi) < 1e-16):\n",
      "        cot_theta_dh_C2 = 0.0\n",
      "    else:\n",
      "        cot_theta_dh_C2 = dh / (np.tan(theta) * C2)\n",
      "        \n",
      "    dHdtheta = np.zeros_like(H)\n",
      "    dHdtheta[0] = dh\n",
      "    dHdtheta[1] = 2.0*h - cot_theta_dh_C2 + 4.0*h**2/(psi*C2)*(dpsi_dr - dpsi_dtheta*dh/h**2) + 3.0*dh**2/h\n",
      "    \n",
      "    return dHdtheta"
     ],
     "language": "python",
     "metadata": {},
     "outputs": [],
     "prompt_number": 3
    },
    {
     "cell_type": "code",
     "collapsed": false,
     "input": [
      "def shooting_function(h0):\n",
      "    \"\"\"Encode the function phi in order to find the initial radius.\"\"\"\n",
      "    \n",
      "    theta = [0.0, np.pi / 2.0]\n",
      "    H0 = [h0, 0.0]\n",
      "    H = odeint(horizon_function, H0, theta, atol = 1.0e-6, rtol = 1.0e-4)\n",
      "    \n",
      "    # Return dh/dtheta at pi / 2.\n",
      "    return H[-1, 1]"
     ],
     "language": "python",
     "metadata": {},
     "outputs": [],
     "prompt_number": 4
    },
    {
     "cell_type": "markdown",
     "metadata": {},
     "source": [
      "We now find the location of the horizon. The correct value is exactly $1/2$, but to test the algorithm we look for a solution in the range $h_0 \\in [0.4, 0.7]$."
     ]
    },
    {
     "cell_type": "code",
     "collapsed": false,
     "input": [
      "h0 = brentq(shooting_function, 0.4, 0.7)\n",
      "print(r\"Found horizon with radius at \\theta=0 of {}\".format(h0))"
     ],
     "language": "python",
     "metadata": {},
     "outputs": [
      {
       "output_type": "stream",
       "stream": "stdout",
       "text": [
        "Found horizon with radius at \\theta=0 of 0.5\n"
       ]
      }
     ],
     "prompt_number": 5
    },
    {
     "cell_type": "markdown",
     "metadata": {},
     "source": [
      "Now we can solve for the horizon and plot the solution."
     ]
    },
    {
     "cell_type": "code",
     "collapsed": false,
     "input": [
      "theta = np.linspace(0.0, np.pi / 2.0)\n",
      "H0 = [h0, 0.0]\n",
      "H = odeint(horizon_function, H0, theta, atol = 1.0e-6, rtol = 1.0e-4)\n",
      "h = H[:, 0]\n",
      "x = h * np.sin(theta)\n",
      "z = h * np.cos(theta)\n",
      "\n",
      "fig = plt.figure(figsize = (8, 8))\n",
      "ax = fig.add_subplot(111)\n",
      "ax.plot(x, z)\n",
      "ax.set_xlabel(\"$x$\")\n",
      "ax.set_ylabel(\"$z$\")\n",
      "ax.set_title(\"Horizon location for a Schwarzschild black hole, mass = 1\")\n",
      "ax.set_xbound(0.0, 0.55)\n",
      "ax.set_ybound(0.0, 0.55)\n",
      "plt.show()"
     ],
     "language": "python",
     "metadata": {},
     "outputs": [
      {
       "metadata": {},
       "output_type": "display_data",
       "png": "[encoded data removed]",
       "text": [
        "<matplotlib.figure.Figure at 0x3f7d790>"
       ]
      }
     ],
     "prompt_number": 6
    },
    {
     "cell_type": "heading",
     "level": 3,
     "metadata": {},
     "source": [
      "Symmetric Binary"
     ]
    },
    {
     "cell_type": "markdown",
     "metadata": {},
     "source": [
      "Now look at the case where there are two singularities. For simplicity we will give these singularities unit mass $m^{(1,2)} = 1$ and locate them symmetrically across the axis, $z^{(1)} = -0.75$, $z^{(2)} = +0.75$. This means we still have reflection symmetry and only need to solve for $\\theta \\in [0, \\pi/2]$."
     ]
    },
    {
     "cell_type": "markdown",
     "metadata": {},
     "source": [
      "We can use exactly the same techniques as in the Schwarzschild case."
     ]
    },
    {
     "cell_type": "code",
     "collapsed": false,
     "input": [
      "def horizon_function_binary(H, theta):\n",
      "    \"\"\"Encoding the apparent horizon IVP equation for the binary case.\"\"\"\n",
      "    \n",
      "    h = H[0]\n",
      "    dh = H[1]\n",
      "    \n",
      "    m_i = [1.0, 1.0]\n",
      "    z_i = [-0.75, 0.75]\n",
      "    \n",
      "    distance_i = np.zeros_like(z_i)\n",
      "    for i in range(len(z_i)):\n",
      "        distance_i[i] = np.sqrt((h*np.sin(theta))**2 + (h*np.cos(theta) - z_i[i])**2)\n",
      "\n",
      "    psi = 1.0\n",
      "    dpsi_dr = 0.0\n",
      "    dpsi_dtheta = 0.0\n",
      "    for i in range(len(m_i)):\n",
      "        psi += 0.5*m_i[i]/distance_i[i]\n",
      "        dpsi_dr -= 0.5*m_i[i]*(h-z_i[i]*np.cos(theta))/distance_i[i] ** 3\n",
      "        dpsi_dtheta -= 0.5*m_i[i]*h*z_i[i]*np.sin(theta)/distance_i[i] ** 3\n",
      "\n",
      "    C2 = 1.0 / (1.0 + (dh / h)**2)\n",
      "    # Impose that the term involving cot(theta) vanishes on axis.\n",
      "    if (abs(theta) < 1e-16) or (abs(theta - np.pi) < 1e-16):\n",
      "        cot_theta_dh_C2 = 0.0\n",
      "    else:\n",
      "        cot_theta_dh_C2 = dh / (np.tan(theta) * C2)\n",
      "        \n",
      "    dHdtheta = np.zeros_like(H)\n",
      "    dHdtheta[0] = dh\n",
      "    dHdtheta[1] = 2.0*h - cot_theta_dh_C2 + 4.0*h**2/(psi*C2)*(dpsi_dr - dpsi_dtheta*dh/h**2) + 3.0*dh**2/h\n",
      "    \n",
      "    return dHdtheta"
     ],
     "language": "python",
     "metadata": {},
     "outputs": [],
     "prompt_number": 18
    },
    {
     "cell_type": "markdown",
     "metadata": {},
     "source": [
      "Note that the only difference for the shooting function is that the function it calls has changed from `horizon_function` to `horizon_function_binary`. This indicates that a general purpose routine should be constructed, but we ignore that for now."
     ]
    },
    {
     "cell_type": "code",
     "collapsed": false,
     "input": [
      "def shooting_function_binary(h0):\n",
      "    \"\"\"Encode the function phi in order to find the initial radius.\"\"\"\n",
      "    \n",
      "    theta = [0.0, np.pi / 2.0]\n",
      "    H0 = [h0, 0.0]\n",
      "    H = odeint(horizon_function_binary, H0, theta, atol = 1.0e-8, rtol = 1.0e-6)\n",
      "    \n",
      "    # Return dh/dtheta at pi / 2.\n",
      "    return H[-1, 1]"
     ],
     "language": "python",
     "metadata": {},
     "outputs": [],
     "prompt_number": 19
    },
    {
     "cell_type": "markdown",
     "metadata": {},
     "source": [
      "We can now attempt to find the solution. However, in order to do this we need a reasonable guess for the initial radius $h_0$. Given the solution from the Schwarzschild case we might expect a guess of $h_0 = 0.75 + 0.5 = 1.25$ to be reasonable if there was just one singularity. But there are two, of total mass $2$, suggesting the horizon might be as far out as $h_0 = 0.75 + 1.0 = 1.75$. But we can check by computing the solution for many different values of $h_0$ and just plotting the function $\\phi$ whose root we are trying to find."
     ]
    },
    {
     "cell_type": "code",
     "collapsed": false,
     "input": [
      "h0_range = np.linspace(1.2, 2.0, 100)\n",
      "phi_range = np.zeros_like(h0_range)\n",
      "for i in range(len(h0_range)):\n",
      "    phi_range[i] = shooting_function_binary(h0_range[i])\n",
      "fig = plt.figure(figsize=(14,6))\n",
      "ax = fig.add_subplot(121)\n",
      "ax.plot(h0_range, phi_range)\n",
      "ax.set_xlabel(\"$h_0$\")\n",
      "ax.set_ylabel(\"$\\phi$\")\n",
      "ax = fig.add_subplot(122)\n",
      "ax.plot(h0_range[:20], phi_range[:20])\n",
      "ax.set_xlabel(\"$h_0$\")\n",
      "ax.set_ylabel(\"$\\phi$\")\n",
      "plt.show()"
     ],
     "language": "python",
     "metadata": {},
     "outputs": [
      {
       "metadata": {},
       "output_type": "display_data",
       "png": "[encoded data removed]",
       "text": [
        "<matplotlib.figure.Figure at 0x3f86bd0>"
       ]
      }
     ],
     "prompt_number": 26
    },
    {
     "cell_type": "markdown",
     "metadata": {},
     "source": [
      "We see that there are two solutions close together. The plot suggests that a reasonable range for the *outer* solution, corresponding to the apparent horizon, is $h_0 \\in [1.25, 1.3]$."
     ]
    },
    {
     "cell_type": "code",
     "collapsed": false,
     "input": [
      "h0_binary_outer = brentq(shooting_function_binary, 1.25, 1.3)\n",
      "print(r\"Found horizon with radius at \\theta=0 of {}\".format(h0_binary_outer))"
     ],
     "language": "python",
     "metadata": {},
     "outputs": [
      {
       "output_type": "stream",
       "stream": "stdout",
       "text": [
        "Found horizon with radius at \\theta=0 of 1.27635795252\n"
       ]
      }
     ],
     "prompt_number": 27
    },
    {
     "cell_type": "markdown",
     "metadata": {},
     "source": [
      "We will also find the inner trapped surface for comparison."
     ]
    },
    {
     "cell_type": "code",
     "collapsed": false,
     "input": [
      "h0_binary_inner = brentq(shooting_function_binary, 1.2, 1.25)\n",
      "print(r\"Found horizon with radius at \\theta=0 of {}\".format(h0_binary_inner))"
     ],
     "language": "python",
     "metadata": {},
     "outputs": [
      {
       "output_type": "stream",
       "stream": "stdout",
       "text": [
        "Found horizon with radius at \\theta=0 of 1.22433854517\n"
       ]
      }
     ],
     "prompt_number": 28
    },
    {
     "cell_type": "markdown",
     "metadata": {},
     "source": [
      "Now we can solve for each trapped surface and plot."
     ]
    },
    {
     "cell_type": "code",
     "collapsed": false,
     "input": [
      "theta = np.linspace(0.0, np.pi / 2.0)\n",
      "\n",
      "H0 = [h0_binary_outer, 0.0]\n",
      "H = odeint(horizon_function_binary, H0, theta, atol = 1.0e-6, rtol = 1.0e-4)\n",
      "h = H[:, 0]\n",
      "x_outer = h * np.sin(theta)\n",
      "z_outer = h * np.cos(theta)\n",
      "\n",
      "H0 = [h0_binary_inner, 0.0]\n",
      "H = odeint(horizon_function_binary, H0, theta, atol = 1.0e-6, rtol = 1.0e-4)\n",
      "h = H[:, 0]\n",
      "x_inner = h * np.sin(theta)\n",
      "z_inner = h * np.cos(theta)\n",
      "\n",
      "fig = plt.figure(figsize = (8, 8))\n",
      "ax = fig.add_subplot(111)\n",
      "ax.plot(x_outer, z_outer, x_inner, z_inner)\n",
      "ax.set_xlabel(\"$x$\")\n",
      "ax.set_ylabel(\"$z$\")\n",
      "ax.set_title(\"Horizon location for a symmetric binary, singularities at $z = \\pm 0.75$.\")\n",
      "ax.set_xbound(0.0, 1.4)\n",
      "ax.set_ybound(0.0, 1.4)\n",
      "plt.show()"
     ],
     "language": "python",
     "metadata": {},
     "outputs": [
      {
       "metadata": {},
       "output_type": "display_data",
       "png": "[encoded data removed]",
       "text": [
        "<matplotlib.figure.Figure at 0x444df10>"
       ]
      }
     ],
     "prompt_number": 30
    },
    {
     "cell_type": "heading",
     "level": 3,
     "metadata": {},
     "source": [
      "Some tricks"
     ]
    },
    {
     "cell_type": "markdown",
     "metadata": {},
     "source": [
      "One question that could be asked is whether there is a *common* horizon at all, given symmetric singularities as above. By a common horizon we mean one that surrounds both singularities and so can be found using the simple algorithm above. It is intuitively clear that if the singularities are sufficiently far apart then each will be surrounded by an individual horizon, but not by the common horizon. This suggests the precise question: what is the value $z^*$ such that, for a spacetime with singularities of unit mass located at $\\pm z$ there is a common horizon if $z < z^*$ but no common horizon if $z > z^*$?"
     ]
    },
    {
     "cell_type": "markdown",
     "metadata": {},
     "source": [
      "This would appear to be another root finding problem. However, there is a difficulty: for sufficiently small separations the common horizon exists, but for large separations it does not. Thus there is no immediately obvious meaningful quantity associated with the horizon which can be used to find the root, as it will not be defined for large $z$.\n",
      "\n",
      "However, the figure of $\\phi$ against $h_0$ above suggests the following trick. The apparent horizon - the outermost trapped surface - is also associated with an inner trapped surface. As we move the singularities further apart, the surfaces come closer together. This moves the zeros of $\\phi(h_0)$ closer together. When $\\phi$ has no zeros, there is no solution to the boundary value problem, and hence no common horizon. At this point, the figure above suggests that the *minimum* value of $\\phi$ will change from being negative to being positive. In other words, the critical value $z^*$ is such that the minimum value of $\\phi$ is zero.\n",
      "\n",
      "Formally, we define a new function\n",
      "\n",
      "\\begin{equation}\n",
      "  \\Phi(z) = \\min_{h_0} \\phi(h_0 ; z)\n",
      "\\end{equation}\n",
      "\n",
      "where $\\phi(h_0 ; z)$ encodes the shooting function given above, but explicitly notes that the precise value depends on the parameters, where the crucial parameter here is the separation between the singularities."
     ]
    },
    {
     "cell_type": "markdown",
     "metadata": {},
     "source": [
      "In order to test this, we need to generalize our functions a little."
     ]
    },
    {
     "cell_type": "code",
     "collapsed": false,
     "input": [
      "def horizon_function_binary_general(H, theta, z):\n",
      "    \"\"\"Encoding the apparent horizon IVP equation for the binary case.\"\"\"\n",
      "    \n",
      "    h = H[0]\n",
      "    dh = H[1]\n",
      "    \n",
      "    m_i = [1.0, 1.0]\n",
      "    z_i = [-z, z]\n",
      "    \n",
      "    distance_i = np.zeros_like(z_i)\n",
      "    for i in range(len(z_i)):\n",
      "        distance_i[i] = np.sqrt((h*np.sin(theta))**2 + (h*np.cos(theta) - z_i[i])**2)\n",
      "\n",
      "    psi = 1.0\n",
      "    dpsi_dr = 0.0\n",
      "    dpsi_dtheta = 0.0\n",
      "    for i in range(len(m_i)):\n",
      "        psi += 0.5*m_i[i]/distance_i[i]\n",
      "        dpsi_dr -= 0.5*m_i[i]*(h-z_i[i]*np.cos(theta))/distance_i[i]**3\n",
      "        dpsi_dtheta -= 0.5*m_i[i]*h*z_i[i]*np.sin(theta)/distance_i[i]**3\n",
      "\n",
      "    C2 = 1.0 / (1.0 + (dh / h)**2)\n",
      "    # Impose that the term involving cot(theta) vanishes on axis.\n",
      "    if (abs(theta) < 1e-16) or (abs(theta - np.pi) < 1e-16):\n",
      "        cot_theta_dh_C2 = 0.0\n",
      "    else:\n",
      "        cot_theta_dh_C2 = dh / (np.tan(theta) * C2)\n",
      "        \n",
      "    dHdtheta = np.zeros_like(H)\n",
      "    dHdtheta[0] = dh\n",
      "    dHdtheta[1] = 2.0*h - cot_theta_dh_C2 + 4.0*h**2/(psi*C2)*(dpsi_dr - dpsi_dtheta*dh/h**2) + 3.0*dh**2/h\n",
      "    \n",
      "    return dHdtheta"
     ],
     "language": "python",
     "metadata": {},
     "outputs": [],
     "prompt_number": 40
    },
    {
     "cell_type": "markdown",
     "metadata": {},
     "source": [
      "Note that the `horizon_function` now takes the separation as an additional argument."
     ]
    },
    {
     "cell_type": "code",
     "collapsed": false,
     "input": [
      "def shooting_function_binary_general(h0, z):\n",
      "    \"\"\"Encode the function phi in order to find the initial radius.\"\"\"\n",
      "    \n",
      "    theta = [0.0, np.pi / 2.0]\n",
      "    H0 = [h0, 0.0]\n",
      "    H = odeint(horizon_function_binary_general, H0, theta, atol = 1.0e-6, rtol = 1.0e-4, args = (z,))\n",
      "    \n",
      "    # Return dh/dtheta at pi / 2.\n",
      "    return H[-1, 1]"
     ],
     "language": "python",
     "metadata": {},
     "outputs": [],
     "prompt_number": 49
    },
    {
     "cell_type": "markdown",
     "metadata": {},
     "source": [
      "Note again that we need an additional argument corresponding to the separation, and this is passed through to the `horizon_function` using the `args` parameter."
     ]
    },
    {
     "cell_type": "code",
     "collapsed": false,
     "input": [
      "h0_range_1 = np.linspace(1.2, 1.4)\n",
      "phi_range_1 = np.zeros_like(h0_range)\n",
      "h0_range_2 = np.linspace(1.225, 1.4)\n",
      "phi_range_2 = np.zeros_like(h0_range)\n",
      "for i in range(len(h0_range)):\n",
      "    phi_range_1[i] = shooting_function_binary_general(h0_range_1[i], 0.75)\n",
      "    phi_range_2[i] = shooting_function_binary_general(h0_range_2[i], 0.775)\n",
      "fig = plt.figure(figsize=(8,6))\n",
      "ax = fig.add_subplot(111)\n",
      "ax.plot(h0_range_1, phi_range_1, h0_range_2, phi_range_2)\n",
      "ax.set_xlabel(\"$h_0$\")\n",
      "ax.set_ylabel(\"$\\phi$\")\n",
      "ax.axhline(color = 'black', linestyle = '--')\n",
      "plt.show()"
     ],
     "language": "python",
     "metadata": {},
     "outputs": [
      {
       "metadata": {},
       "output_type": "display_data",
       "png": "[encoded data removed]",
       "text": [
        "<matplotlib.figure.Figure at 0x4129790>"
       ]
      }
     ],
     "prompt_number": 50
    },
    {
     "cell_type": "markdown",
     "metadata": {},
     "source": [
      "We see that $0.75 < z^* < 0.775$. Now all we need to do is find the minimum of this function to define our new function $\\Phi$, then find the root of that. Finding the minimum can be done by another standard `scipy` function."
     ]
    },
    {
     "cell_type": "code",
     "collapsed": false,
     "input": [
      "from scipy.optimize import minimize_scalar"
     ],
     "language": "python",
     "metadata": {},
     "outputs": [],
     "prompt_number": 51
    },
    {
     "cell_type": "code",
     "collapsed": false,
     "input": [
      "def critical_separation_function(z):\n",
      "    \"\"\"Function whose root gives the critical separation.\"\"\"\n",
      "    result = minimize_scalar(shooting_function_binary_general, [1.23, 1.3], args=(z,))\n",
      "    return result.fun"
     ],
     "language": "python",
     "metadata": {},
     "outputs": [],
     "prompt_number": 59
    },
    {
     "cell_type": "markdown",
     "metadata": {},
     "source": [
      "Now we can find the root of this function, telling us the critical mass."
     ]
    },
    {
     "cell_type": "code",
     "collapsed": false,
     "input": [
      "zstar = brentq(critical_separation_function, 0.75, 0.775)"
     ],
     "language": "python",
     "metadata": {},
     "outputs": [
      {
       "output_type": "stream",
       "stream": "stdout",
       "text": [
        "Excess work done on this call (perhaps wrong Dfun type).\n",
        "Run with full_output = 1 to get quantitative information.\n",
        "Excess work done on this call (perhaps wrong Dfun type)."
       ]
      },
      {
       "output_type": "stream",
       "stream": "stdout",
       "text": [
        "\n",
        "Run with full_output = 1 to get quantitative information.\n",
        "Excess work done on this call (perhaps wrong Dfun type)."
       ]
      },
      {
       "output_type": "stream",
       "stream": "stdout",
       "text": [
        "\n",
        "Run with full_output = 1 to get quantitative information.\n",
        "Excess work done on this call (perhaps wrong Dfun type)."
       ]
      },
      {
       "output_type": "stream",
       "stream": "stdout",
       "text": [
        "\n",
        "Run with full_output = 1 to get quantitative information.\n",
        "Excess work done on this call (perhaps wrong Dfun type)."
       ]
      },
      {
       "output_type": "stream",
       "stream": "stdout",
       "text": [
        "\n",
        "Run with full_output = 1 to get quantitative information.\n",
        "Excess work done on this call (perhaps wrong Dfun type)."
       ]
      },
      {
       "output_type": "stream",
       "stream": "stdout",
       "text": [
        "\n",
        "Run with full_output = 1 to get quantitative information.\n",
        "Excess work done on this call (perhaps wrong Dfun type)."
       ]
      },
      {
       "output_type": "stream",
       "stream": "stdout",
       "text": [
        "\n",
        "Run with full_output = 1 to get quantitative information.\n",
        "Excess work done on this call (perhaps wrong Dfun type)."
       ]
      },
      {
       "output_type": "stream",
       "stream": "stdout",
       "text": [
        "\n",
        "Run with full_output = 1 to get quantitative information.\n",
        "Excess work done on this call (perhaps wrong Dfun type)."
       ]
      },
      {
       "output_type": "stream",
       "stream": "stdout",
       "text": [
        "\n",
        "Run with full_output = 1 to get quantitative information.\n",
        "Excess work done on this call (perhaps wrong Dfun type)."
       ]
      },
      {
       "output_type": "stream",
       "stream": "stdout",
       "text": [
        "\n",
        "Run with full_output = 1 to get quantitative information.\n",
        "Excess work done on this call (perhaps wrong Dfun type)."
       ]
      },
      {
       "output_type": "stream",
       "stream": "stdout",
       "text": [
        "\n",
        "Run with full_output = 1 to get quantitative information.\n",
        "Excess work done on this call (perhaps wrong Dfun type)."
       ]
      },
      {
       "output_type": "stream",
       "stream": "stdout",
       "text": [
        "\n",
        "Run with full_output = 1 to get quantitative information.\n",
        "Excess work done on this call (perhaps wrong Dfun type)."
       ]
      },
      {
       "output_type": "stream",
       "stream": "stdout",
       "text": [
        "\n",
        "Run with full_output = 1 to get quantitative information.\n",
        "Excess work done on this call (perhaps wrong Dfun type)."
       ]
      },
      {
       "output_type": "stream",
       "stream": "stdout",
       "text": [
        "\n",
        "Run with full_output = 1 to get quantitative information.\n",
        "Excess work done on this call (perhaps wrong Dfun type)."
       ]
      },
      {
       "output_type": "stream",
       "stream": "stdout",
       "text": [
        "\n",
        "Run with full_output = 1 to get quantitative information.\n",
        "Excess work done on this call (perhaps wrong Dfun type)."
       ]
      },
      {
       "output_type": "stream",
       "stream": "stdout",
       "text": [
        "\n",
        "Run with full_output = 1 to get quantitative information.\n",
        "Excess work done on this call (perhaps wrong Dfun type)."
       ]
      },
      {
       "output_type": "stream",
       "stream": "stdout",
       "text": [
        "\n",
        "Run with full_output = 1 to get quantitative information.\n",
        "Excess work done on this call (perhaps wrong Dfun type)."
       ]
      },
      {
       "output_type": "stream",
       "stream": "stdout",
       "text": [
        "\n",
        "Run with full_output = 1 to get quantitative information.\n",
        "Excess work done on this call (perhaps wrong Dfun type)."
       ]
      },
      {
       "output_type": "stream",
       "stream": "stdout",
       "text": [
        "\n",
        "Run with full_output = 1 to get quantitative information.\n",
        "Excess work done on this call (perhaps wrong Dfun type)."
       ]
      },
      {
       "output_type": "stream",
       "stream": "stdout",
       "text": [
        "\n",
        "Run with full_output = 1 to get quantitative information.\n",
        "Excess work done on this call (perhaps wrong Dfun type)."
       ]
      },
      {
       "output_type": "stream",
       "stream": "stdout",
       "text": [
        "\n",
        "Run with full_output = 1 to get quantitative information.\n",
        "Excess work done on this call (perhaps wrong Dfun type)."
       ]
      },
      {
       "output_type": "stream",
       "stream": "stdout",
       "text": [
        "\n",
        "Run with full_output = 1 to get quantitative information.\n",
        "Excess work done on this call (perhaps wrong Dfun type)."
       ]
      },
      {
       "output_type": "stream",
       "stream": "stdout",
       "text": [
        "\n",
        "Run with full_output = 1 to get quantitative information.\n",
        "Excess work done on this call (perhaps wrong Dfun type)."
       ]
      },
      {
       "output_type": "stream",
       "stream": "stdout",
       "text": [
        "\n",
        "Run with full_output = 1 to get quantitative information.\n",
        "Excess work done on this call (perhaps wrong Dfun type)."
       ]
      },
      {
       "output_type": "stream",
       "stream": "stdout",
       "text": [
        "\n",
        "Run with full_output = 1 to get quantitative information.\n",
        "Excess work done on this call (perhaps wrong Dfun type)."
       ]
      },
      {
       "output_type": "stream",
       "stream": "stdout",
       "text": [
        "\n",
        "Run with full_output = 1 to get quantitative information.\n",
        "Excess work done on this call (perhaps wrong Dfun type)."
       ]
      },
      {
       "output_type": "stream",
       "stream": "stdout",
       "text": [
        "\n",
        "Run with full_output = 1 to get quantitative information.\n",
        "Excess work done on this call (perhaps wrong Dfun type)."
       ]
      },
      {
       "output_type": "stream",
       "stream": "stdout",
       "text": [
        "\n",
        "Run with full_output = 1 to get quantitative information.\n",
        "Excess work done on this call (perhaps wrong Dfun type)."
       ]
      },
      {
       "output_type": "stream",
       "stream": "stdout",
       "text": [
        "\n",
        "Run with full_output = 1 to get quantitative information.\n",
        "Excess work done on this call (perhaps wrong Dfun type)."
       ]
      },
      {
       "output_type": "stream",
       "stream": "stdout",
       "text": [
        "\n",
        "Run with full_output = 1 to get quantitative information.\n",
        "Excess work done on this call (perhaps wrong Dfun type)."
       ]
      },
      {
       "output_type": "stream",
       "stream": "stdout",
       "text": [
        "\n",
        "Run with full_output = 1 to get quantitative information.\n",
        "Excess work done on this call (perhaps wrong Dfun type)."
       ]
      },
      {
       "output_type": "stream",
       "stream": "stdout",
       "text": [
        "\n",
        "Run with full_output = 1 to get quantitative information.\n",
        "Excess work done on this call (perhaps wrong Dfun type)."
       ]
      },
      {
       "output_type": "stream",
       "stream": "stdout",
       "text": [
        "\n",
        "Run with full_output = 1 to get quantitative information.\n",
        "Excess work done on this call (perhaps wrong Dfun type)."
       ]
      },
      {
       "output_type": "stream",
       "stream": "stdout",
       "text": [
        "\n",
        "Run with full_output = 1 to get quantitative information.\n",
        "Excess work done on this call (perhaps wrong Dfun type)."
       ]
      },
      {
       "output_type": "stream",
       "stream": "stdout",
       "text": [
        "\n",
        "Run with full_output = 1 to get quantitative information.\n",
        "Excess work done on this call (perhaps wrong Dfun type)."
       ]
      },
      {
       "output_type": "stream",
       "stream": "stdout",
       "text": [
        "\n",
        "Run with full_output = 1 to get quantitative information.\n",
        "Excess work done on this call (perhaps wrong Dfun type)."
       ]
      },
      {
       "output_type": "stream",
       "stream": "stdout",
       "text": [
        "\n",
        "Run with full_output = 1 to get quantitative information.\n",
        "Excess work done on this call (perhaps wrong Dfun type)."
       ]
      },
      {
       "output_type": "stream",
       "stream": "stdout",
       "text": [
        "\n",
        "Run with full_output = 1 to get quantitative information.\n",
        "Excess work done on this call (perhaps wrong Dfun type)."
       ]
      },
      {
       "output_type": "stream",
       "stream": "stdout",
       "text": [
        "\n",
        "Run with full_output = 1 to get quantitative information.\n",
        "Excess work done on this call (perhaps wrong Dfun type)."
       ]
      },
      {
       "output_type": "stream",
       "stream": "stdout",
       "text": [
        "\n",
        "Run with full_output = 1 to get quantitative information.\n",
        "Excess work done on this call (perhaps wrong Dfun type)."
       ]
      },
      {
       "output_type": "stream",
       "stream": "stdout",
       "text": [
        "\n",
        "Run with full_output = 1 to get quantitative information.\n",
        "Excess work done on this call (perhaps wrong Dfun type)."
       ]
      },
      {
       "output_type": "stream",
       "stream": "stdout",
       "text": [
        "\n",
        "Run with full_output = 1 to get quantitative information.\n",
        "Excess work done on this call (perhaps wrong Dfun type)."
       ]
      },
      {
       "output_type": "stream",
       "stream": "stdout",
       "text": [
        "\n",
        "Run with full_output = 1 to get quantitative information.\n",
        "Excess work done on this call (perhaps wrong Dfun type)."
       ]
      },
      {
       "output_type": "stream",
       "stream": "stdout",
       "text": [
        "\n",
        "Run with full_output = 1 to get quantitative information.\n",
        "Excess work done on this call (perhaps wrong Dfun type)."
       ]
      },
      {
       "output_type": "stream",
       "stream": "stdout",
       "text": [
        "\n",
        "Run with full_output = 1 to get quantitative information.\n",
        "Excess work done on this call (perhaps wrong Dfun type)."
       ]
      },
      {
       "output_type": "stream",
       "stream": "stdout",
       "text": [
        "\n",
        "Run with full_output = 1 to get quantitative information.\n",
        "Excess work done on this call (perhaps wrong Dfun type)."
       ]
      },
      {
       "output_type": "stream",
       "stream": "stdout",
       "text": [
        "\n",
        "Run with full_output = 1 to get quantitative information.\n",
        "Excess work done on this call (perhaps wrong Dfun type)."
       ]
      },
      {
       "output_type": "stream",
       "stream": "stdout",
       "text": [
        "\n",
        "Run with full_output = 1 to get quantitative information.\n",
        "Excess work done on this call (perhaps wrong Dfun type)."
       ]
      },
      {
       "output_type": "stream",
       "stream": "stdout",
       "text": [
        "\n",
        "Run with full_output = 1 to get quantitative information.\n",
        "Excess work done on this call (perhaps wrong Dfun type)."
       ]
      },
      {
       "output_type": "stream",
       "stream": "stdout",
       "text": [
        "\n",
        "Run with full_output = 1 to get quantitative information.\n",
        "Excess work done on this call (perhaps wrong Dfun type)."
       ]
      },
      {
       "output_type": "stream",
       "stream": "stdout",
       "text": [
        "\n",
        "Run with full_output = 1 to get quantitative information.\n",
        "Excess work done on this call (perhaps wrong Dfun type)."
       ]
      },
      {
       "output_type": "stream",
       "stream": "stdout",
       "text": [
        "\n",
        "Run with full_output = 1 to get quantitative information.\n",
        "Excess work done on this call (perhaps wrong Dfun type)."
       ]
      },
      {
       "output_type": "stream",
       "stream": "stdout",
       "text": [
        "\n",
        "Run with full_output = 1 to get quantitative information.\n",
        "Excess work done on this call (perhaps wrong Dfun type)."
       ]
      },
      {
       "output_type": "stream",
       "stream": "stdout",
       "text": [
        "\n",
        "Run with full_output = 1 to get quantitative information.\n",
        "Excess work done on this call (perhaps wrong Dfun type)."
       ]
      },
      {
       "output_type": "stream",
       "stream": "stdout",
       "text": [
        "\n",
        "Run with full_output = 1 to get quantitative information.\n",
        "Excess work done on this call (perhaps wrong Dfun type)."
       ]
      },
      {
       "output_type": "stream",
       "stream": "stdout",
       "text": [
        "\n",
        "Run with full_output = 1 to get quantitative information.\n",
        "Excess work done on this call (perhaps wrong Dfun type)."
       ]
      },
      {
       "output_type": "stream",
       "stream": "stdout",
       "text": [
        "\n",
        "Run with full_output = 1 to get quantitative information.\n",
        "Excess work done on this call (perhaps wrong Dfun type)."
       ]
      },
      {
       "output_type": "stream",
       "stream": "stdout",
       "text": [
        "\n",
        "Run with full_output = 1 to get quantitative information.\n",
        "Excess work done on this call (perhaps wrong Dfun type)."
       ]
      },
      {
       "output_type": "stream",
       "stream": "stdout",
       "text": [
        "\n",
        "Run with full_output = 1 to get quantitative information.\n",
        "Excess work done on this call (perhaps wrong Dfun type)."
       ]
      },
      {
       "output_type": "stream",
       "stream": "stdout",
       "text": [
        "\n",
        "Run with full_output = 1 to get quantitative information.\n",
        "Excess work done on this call (perhaps wrong Dfun type)."
       ]
      },
      {
       "output_type": "stream",
       "stream": "stdout",
       "text": [
        "\n",
        "Run with full_output = 1 to get quantitative information.\n",
        "Excess work done on this call (perhaps wrong Dfun type)."
       ]
      },
      {
       "output_type": "stream",
       "stream": "stdout",
       "text": [
        "\n",
        "Run with full_output = 1 to get quantitative information.\n",
        "Excess work done on this call (perhaps wrong Dfun type)."
       ]
      },
      {
       "output_type": "stream",
       "stream": "stdout",
       "text": [
        "\n",
        "Run with full_output = 1 to get quantitative information.\n",
        "Excess work done on this call (perhaps wrong Dfun type)."
       ]
      },
      {
       "output_type": "stream",
       "stream": "stdout",
       "text": [
        "\n",
        "Run with full_output = 1 to get quantitative information.\n",
        "Excess work done on this call (perhaps wrong Dfun type)."
       ]
      },
      {
       "output_type": "stream",
       "stream": "stdout",
       "text": [
        "\n",
        "Run with full_output = 1 to get quantitative information.\n",
        "Excess work done on this call (perhaps wrong Dfun type)."
       ]
      },
      {
       "output_type": "stream",
       "stream": "stdout",
       "text": [
        "\n",
        "Run with full_output = 1 to get quantitative information.\n",
        "Excess work done on this call (perhaps wrong Dfun type)."
       ]
      },
      {
       "output_type": "stream",
       "stream": "stdout",
       "text": [
        "\n",
        "Run with full_output = 1 to get quantitative information.\n",
        "Excess work done on this call (perhaps wrong Dfun type)."
       ]
      },
      {
       "output_type": "stream",
       "stream": "stdout",
       "text": [
        "\n",
        "Run with full_output = 1 to get quantitative information.\n",
        "Excess work done on this call (perhaps wrong Dfun type)."
       ]
      },
      {
       "output_type": "stream",
       "stream": "stdout",
       "text": [
        "\n",
        "Run with full_output = 1 to get quantitative information.\n",
        "Excess work done on this call (perhaps wrong Dfun type)."
       ]
      },
      {
       "output_type": "stream",
       "stream": "stdout",
       "text": [
        "\n",
        "Run with full_output = 1 to get quantitative information.\n",
        "Excess work done on this call (perhaps wrong Dfun type)."
       ]
      },
      {
       "output_type": "stream",
       "stream": "stdout",
       "text": [
        "\n",
        "Run with full_output = 1 to get quantitative information.\n",
        "Excess work done on this call (perhaps wrong Dfun type)."
       ]
      },
      {
       "output_type": "stream",
       "stream": "stdout",
       "text": [
        "\n",
        "Run with full_output = 1 to get quantitative information.\n"
       ]
      }
     ],
     "prompt_number": 60
    },
    {
     "cell_type": "code",
     "collapsed": false,
     "input": [
      "print(\"The critical value of the separation is z* = {}\".format(zstar))"
     ],
     "language": "python",
     "metadata": {},
     "outputs": [
      {
       "output_type": "stream",
       "stream": "stdout",
       "text": [
        "The critical value of the separation is z* = 0.766242211091\n"
       ]
      }
     ],
     "prompt_number": 63
    },
    {
     "cell_type": "markdown",
     "metadata": {},
     "source": [
      "Now we solve for the horizon at the critical separation. It is pretty much impossible to find the root using the `brentq` algorithm as the shooting function just touches zero (by design!). However, we know that the root occurs at the minimum location."
     ]
    },
    {
     "cell_type": "code",
     "collapsed": false,
     "input": [
      "result_critical = minimize_scalar(shooting_function_binary_general, [1.23, 1.3], args=(zstar,))\n",
      "h0_critical = result_critical.x\n",
      "print(r\"'Found' horizon with radius at \\theta=0 of {}\".format(h0_critical))"
     ],
     "language": "python",
     "metadata": {},
     "outputs": [
      {
       "output_type": "stream",
       "stream": "stdout",
       "text": [
        "'Found' horizon with radius at \\theta=0 of 1.26550875639\n"
       ]
      }
     ],
     "prompt_number": 68
    },
    {
     "cell_type": "code",
     "collapsed": false,
     "input": [
      "theta = np.linspace(0.0, np.pi / 2.0)\n",
      "\n",
      "H0 = [h0_critical, 0.0]\n",
      "H = odeint(horizon_function_binary_general, H0, theta, atol = 1.0e-6, rtol = 1.0e-4, args=(zstar,))\n",
      "h = H[:, 0]\n",
      "x_critical = h * np.sin(theta)\n",
      "z_critical = h * np.cos(theta)\n",
      "\n",
      "fig = plt.figure(figsize = (8, 8))\n",
      "ax = fig.add_subplot(111)\n",
      "ax.plot(x_critical, z_critical)\n",
      "ax.set_xlabel(\"$x$\")\n",
      "ax.set_ylabel(\"$z$\")\n",
      "ax.set_title(\"Horizon location for the 'last' symmetric binary, singularities at $z = \\pm {}$.\".format(zstar))\n",
      "ax.set_xbound(0.0, 1.4)\n",
      "ax.set_ybound(0.0, 1.4)\n",
      "plt.show()"
     ],
     "language": "python",
     "metadata": {},
     "outputs": [
      {
       "metadata": {},
       "output_type": "display_data",
       "png": "[encoded data removed]",
       "text": [
        "<matplotlib.figure.Figure at 0x4441290>"
       ]
      }
     ],
     "prompt_number": 69
    }
   ],
   "metadata": {}
  }
 ]
}